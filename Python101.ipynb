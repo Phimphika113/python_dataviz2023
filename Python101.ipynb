{
  "nbformat": 4,
  "nbformat_minor": 0,
  "metadata": {
    "colab": {
      "provenance": [],
      "collapsed_sections": [
        "YrFJUFv1gi0t"
      ],
      "include_colab_link": true
    },
    "kernelspec": {
      "name": "python3",
      "display_name": "Python 3"
    },
    "language_info": {
      "name": "python"
    }
  },
  "cells": [
    {
      "cell_type": "markdown",
      "metadata": {
        "id": "view-in-github",
        "colab_type": "text"
      },
      "source": [
        "<a href=\"https://colab.research.google.com/github/Phimphika113/python_dataviz2023/blob/main/Python101.ipynb\" target=\"_parent\"><img src=\"https://colab.research.google.com/assets/colab-badge.svg\" alt=\"Open In Colab\"/></a>"
      ]
    },
    {
      "cell_type": "markdown",
      "source": [
        "ข้อความในช่อง text เป็น ภาษา Markdown (https://www.markdownguide.org/cheat-sheet/)  #ใช้ตกแต่ความสวยงามได้ เช่นเขียนสมการ"
      ],
      "metadata": {
        "id": "dyp-0Cs8pTph"
      }
    },
    {
      "cell_type": "markdown",
      "source": [
        "# การจัดการข้อความในการแสดงผล (Print)\n",
        "  `print(ข้อความ)` = การแสดง Output ออกมาทางหน้าจอ\n",
        "  ---------------------------------------------------------------\n",
        "## string\n",
        "### test heading 3\n",
        "`print(ข้อความ)` #ใช้ในการเน้นโค้ด"
      ],
      "metadata": {
        "id": "stjY3Wz-pZHz"
      }
    },
    {
      "cell_type": "markdown",
      "source": [
        "## ข้อความ (string)\n"
      ],
      "metadata": {
        "id": "lpjwbRJcQpty"
      }
    },
    {
      "cell_type": "code",
      "source": [
        "print('test') # string -> ครอบ single (' ')/double quote(\" \") ก็ได้\n",
        "                #"
      ],
      "metadata": {
        "colab": {
          "base_uri": "https://localhost:8080/"
        },
        "id": "utdkJE1fpq9v",
        "outputId": "7e8355d2-8d33-4413-8a22-7dc07190ffb3"
      },
      "execution_count": 1,
      "outputs": [
        {
          "output_type": "stream",
          "name": "stdout",
          "text": [
            "test\n"
          ]
        }
      ]
    },
    {
      "cell_type": "code",
      "source": [
        "'สถิติ' # ' quote มี = ข้อความ"
      ],
      "metadata": {
        "colab": {
          "base_uri": "https://localhost:8080/",
          "height": 34
        },
        "id": "FB8Pcv-xp0cT",
        "outputId": "7a3f2939-a432-4025-f5f8-6a3f86e089e7"
      },
      "execution_count": null,
      "outputs": [
        {
          "output_type": "execute_result",
          "data": {
            "text/plain": [
              "'สถิติ'"
            ],
            "application/vnd.google.colaboratory.intrinsic+json": {
              "type": "string"
            }
          },
          "metadata": {},
          "execution_count": 2
        }
      ]
    },
    {
      "cell_type": "code",
      "source": [
        "\"สถิติ\" # \" double quote"
      ],
      "metadata": {
        "colab": {
          "base_uri": "https://localhost:8080/",
          "height": 36
        },
        "id": "nJEiTJeYp2Mt",
        "outputId": "f1379c06-679b-4099-cfc2-2347d43c2f5e"
      },
      "execution_count": null,
      "outputs": [
        {
          "output_type": "execute_result",
          "data": {
            "text/plain": [
              "'สถิติ'"
            ],
            "application/vnd.google.colaboratory.intrinsic+json": {
              "type": "string"
            }
          },
          "metadata": {},
          "execution_count": 11
        }
      ]
    },
    {
      "cell_type": "code",
      "source": [
        "'1' # เลขต่อให้ครอบก็เป็น string"
      ],
      "metadata": {
        "id": "ToeYuCDkk7b0",
        "outputId": "0d98d74c-d4d0-478c-99a7-c652e832561a",
        "colab": {
          "base_uri": "https://localhost:8080/",
          "height": 34
        }
      },
      "execution_count": 2,
      "outputs": [
        {
          "output_type": "execute_result",
          "data": {
            "text/plain": [
              "'1'"
            ],
            "application/vnd.google.colaboratory.intrinsic+json": {
              "type": "string"
            }
          },
          "metadata": {},
          "execution_count": 2
        }
      ]
    },
    {
      "cell_type": "markdown",
      "source": [
        "## ผลการรันแสดงออกมา ได้ 2 แบบ\n",
        "1. ถ้าไม่มีตัวแปรมารับ ก็จะแสดงผลออกที่หน้าจอ\n",
        "2. ถ้ามีตัวแปรมารับ ผลการรันก็จะไปอยู่ในตัวแปร"
      ],
      "metadata": {
        "id": "vMW8gPpTQ4yu"
      }
    },
    {
      "cell_type": "code",
      "source": [
        "1+3 # ไม่มีตัวแปรมารับ  /// ตัวเลขบวกตัวเลขได้เลย"
      ],
      "metadata": {
        "colab": {
          "base_uri": "https://localhost:8080/"
        },
        "id": "v0rQ1CHXRSMn",
        "outputId": "78153bd7-155b-454d-aa5d-2586b529162b"
      },
      "execution_count": 3,
      "outputs": [
        {
          "output_type": "execute_result",
          "data": {
            "text/plain": [
              "4"
            ]
          },
          "metadata": {},
          "execution_count": 3
        }
      ]
    },
    {
      "cell_type": "code",
      "source": [
        "a = 1+3 #มีตัวแปร a มารับผลการบวก"
      ],
      "metadata": {
        "id": "lWOn8HAbRhdK"
      },
      "execution_count": 4,
      "outputs": []
    },
    {
      "cell_type": "code",
      "source": [
        "print(a)"
      ],
      "metadata": {
        "colab": {
          "base_uri": "https://localhost:8080/"
        },
        "id": "dfT41NYMRozJ",
        "outputId": "2e3b3595-f56a-40e6-c7fb-0afa485514f0"
      },
      "execution_count": null,
      "outputs": [
        {
          "output_type": "stream",
          "name": "stdout",
          "text": [
            "4\n"
          ]
        }
      ]
    },
    {
      "cell_type": "code",
      "source": [
        "'1'+'3' # string +string คือการต่อ string"
      ],
      "metadata": {
        "colab": {
          "base_uri": "https://localhost:8080/",
          "height": 36
        },
        "id": "lhqZSBjgR_nk",
        "outputId": "0a479298-d802-4d39-fb88-68a2b65a62a0"
      },
      "execution_count": null,
      "outputs": [
        {
          "output_type": "execute_result",
          "data": {
            "text/plain": [
              "'13'"
            ],
            "application/vnd.google.colaboratory.intrinsic+json": {
              "type": "string"
            }
          },
          "metadata": {},
          "execution_count": 15
        }
      ]
    },
    {
      "cell_type": "code",
      "source": [
        "1-3"
      ],
      "metadata": {
        "colab": {
          "base_uri": "https://localhost:8080/"
        },
        "id": "TEQReEjwqPXM",
        "outputId": "07b4df31-8dfe-4ec6-a8d7-569994470dc8"
      },
      "execution_count": null,
      "outputs": [
        {
          "output_type": "execute_result",
          "data": {
            "text/plain": [
              "-2"
            ]
          },
          "metadata": {},
          "execution_count": 16
        }
      ]
    },
    {
      "cell_type": "code",
      "source": [
        "'1'-'3' # string -string  ทำไม่ได้"
      ],
      "metadata": {
        "colab": {
          "base_uri": "https://localhost:8080/",
          "height": 165
        },
        "outputId": "143774f1-cfa3-40a0-9757-5b52f0deff5e",
        "id": "P3LwqiubSRi0"
      },
      "execution_count": null,
      "outputs": [
        {
          "output_type": "error",
          "ename": "TypeError",
          "evalue": "ignored",
          "traceback": [
            "\u001b[0;31m---------------------------------------------------------------------------\u001b[0m",
            "\u001b[0;31mTypeError\u001b[0m                                 Traceback (most recent call last)",
            "\u001b[0;32m<ipython-input-17-5787ec1dcda9>\u001b[0m in \u001b[0;36m<module>\u001b[0;34m()\u001b[0m\n\u001b[0;32m----> 1\u001b[0;31m \u001b[0;34m'1'\u001b[0m\u001b[0;34m-\u001b[0m\u001b[0;34m'3'\u001b[0m \u001b[0;31m# string -string  ทำไม่ได้\u001b[0m\u001b[0;34m\u001b[0m\u001b[0;34m\u001b[0m\u001b[0m\n\u001b[0m",
            "\u001b[0;31mTypeError\u001b[0m: unsupported operand type(s) for -: 'str' and 'str'"
          ]
        }
      ]
    },
    {
      "cell_type": "markdown",
      "source": [
        "#Syntax print\n",
        "print(object(s), sep=separator, end=end)"
      ],
      "metadata": {
        "id": "rvuFonR7lqQk"
      }
    },
    {
      "cell_type": "markdown",
      "source": [
        "## print() -> separator"
      ],
      "metadata": {
        "id": "bDWsx70qbOAG"
      }
    },
    {
      "cell_type": "code",
      "source": [
        "print('a','b','c', sep = '       ') #ทำให้ห่าง"
      ],
      "metadata": {
        "id": "M0SN0OzfmAue",
        "outputId": "b70cd0e8-6ac1-422a-adfa-8eeb223270d4",
        "colab": {
          "base_uri": "https://localhost:8080/"
        }
      },
      "execution_count": 5,
      "outputs": [
        {
          "output_type": "stream",
          "name": "stdout",
          "text": [
            "a       b       c\n"
          ]
        }
      ]
    },
    {
      "cell_type": "code",
      "source": [
        "print('stat','สถิติ',sep='') # ไม่เว้นวรรค"
      ],
      "metadata": {
        "colab": {
          "base_uri": "https://localhost:8080/"
        },
        "id": "Lj3T9Sb3cB9F",
        "outputId": "a048309f-2ed7-4787-c190-b0321ef873ad"
      },
      "execution_count": null,
      "outputs": [
        {
          "output_type": "stream",
          "name": "stdout",
          "text": [
            "statสถิติ\n"
          ]
        }
      ]
    },
    {
      "cell_type": "code",
      "source": [
        "print('a','b','c', sep = '    ,   ') #ทำให้ห่าง"
      ],
      "metadata": {
        "id": "GNuo8_HMnBwX",
        "outputId": "df8ad4fb-4098-4717-e9f9-93934632eb44",
        "colab": {
          "base_uri": "https://localhost:8080/"
        }
      },
      "execution_count": 6,
      "outputs": [
        {
          "output_type": "stream",
          "name": "stdout",
          "text": [
            "a    ,   b    ,   c\n"
          ]
        }
      ]
    },
    {
      "cell_type": "code",
      "source": [
        "print('stat','สถิติ')"
      ],
      "metadata": {
        "colab": {
          "base_uri": "https://localhost:8080/"
        },
        "id": "vFS526J-a4Rb",
        "outputId": "984187af-6bea-4b6e-ef11-6e1e2760e519"
      },
      "execution_count": null,
      "outputs": [
        {
          "output_type": "stream",
          "name": "stdout",
          "text": [
            "stat สถิติ\n"
          ]
        }
      ]
    },
    {
      "cell_type": "markdown",
      "source": [
        "## Print() -> end\n",
        "\n",
        "ให้จบด้วยอะไร (พื้นฐาน \\n จบบรรทัด)"
      ],
      "metadata": {
        "id": "TanIAzxUSeWV"
      }
    },
    {
      "cell_type": "code",
      "source": [
        "print('stat')\n",
        "print('SIDS')"
      ],
      "metadata": {
        "colab": {
          "base_uri": "https://localhost:8080/"
        },
        "id": "ikYLLloFSnrD",
        "outputId": "104f934f-dbb1-481b-f9f2-5a09a7ce44f1"
      },
      "execution_count": 7,
      "outputs": [
        {
          "output_type": "stream",
          "name": "stdout",
          "text": [
            "stat\n",
            "SIDS\n"
          ]
        }
      ]
    },
    {
      "cell_type": "code",
      "source": [
        "print('stat', end=', ')     # ข้อความอยู่บรรทัดเดียวกัน\n",
        "print('SIDS')"
      ],
      "metadata": {
        "colab": {
          "base_uri": "https://localhost:8080/"
        },
        "id": "BHM4ehYIc5Ci",
        "outputId": "0aa5d441-5289-410b-e00b-ea3e06944522"
      },
      "execution_count": 8,
      "outputs": [
        {
          "output_type": "stream",
          "name": "stdout",
          "text": [
            "stat, SIDS\n"
          ]
        }
      ]
    },
    {
      "cell_type": "code",
      "source": [
        "print('stat')\n",
        "print('SIDS')\n",
        "print('stat', end=', ')     # ข้อความอยู่บรรทัดเดียวกัน\n",
        "print('SIDS')"
      ],
      "metadata": {
        "id": "fevGbVzEnvSz",
        "outputId": "e338a031-a09f-4ea5-99be-4168200ac86b",
        "colab": {
          "base_uri": "https://localhost:8080/"
        }
      },
      "execution_count": 9,
      "outputs": [
        {
          "output_type": "stream",
          "name": "stdout",
          "text": [
            "stat\n",
            "SIDS\n",
            "stat, SIDS\n"
          ]
        }
      ]
    },
    {
      "cell_type": "markdown",
      "source": [
        "# ชนิดของตัวแปร (Variables)\n"
      ],
      "metadata": {
        "id": "X62uqPC0SzUn"
      }
    },
    {
      "cell_type": "code",
      "source": [
        "a = 12\n",
        "b = 1.3"
      ],
      "metadata": {
        "id": "odGsndI3TD52"
      },
      "execution_count": null,
      "outputs": []
    },
    {
      "cell_type": "code",
      "source": [
        "print(type(a),type(b))"
      ],
      "metadata": {
        "colab": {
          "base_uri": "https://localhost:8080/"
        },
        "id": "kMY8YbZhqp_n",
        "outputId": "56f7b5a6-7813-4226-daac-0147006e8627"
      },
      "execution_count": null,
      "outputs": [
        {
          "output_type": "stream",
          "name": "stdout",
          "text": [
            "<class 'int'> <class 'float'>\n"
          ]
        }
      ]
    },
    {
      "cell_type": "code",
      "source": [
        "c = a/b"
      ],
      "metadata": {
        "id": "rF6G1T5GTOQg"
      },
      "execution_count": null,
      "outputs": []
    },
    {
      "cell_type": "code",
      "source": [
        "c"
      ],
      "metadata": {
        "colab": {
          "base_uri": "https://localhost:8080/"
        },
        "id": "diOKSjhrTYVy",
        "outputId": "25ec6894-fc6b-4135-f0f7-928b0b19dd28"
      },
      "execution_count": null,
      "outputs": [
        {
          "output_type": "execute_result",
          "data": {
            "text/plain": [
              "9.23076923076923"
            ]
          },
          "metadata": {},
          "execution_count": 31
        }
      ]
    },
    {
      "cell_type": "markdown",
      "source": [
        "### modulo(%) การหารเอาเศษ (ไม่เอาส่วน)"
      ],
      "metadata": {
        "id": "Q0tISp3teILN"
      }
    },
    {
      "cell_type": "code",
      "source": [
        "7%4"
      ],
      "metadata": {
        "colab": {
          "base_uri": "https://localhost:8080/"
        },
        "id": "djRtHMArUKPc",
        "outputId": "189e7b06-21f0-41a5-f028-06824268efc0"
      },
      "execution_count": null,
      "outputs": [
        {
          "output_type": "execute_result",
          "data": {
            "text/plain": [
              "3"
            ]
          },
          "metadata": {},
          "execution_count": 32
        }
      ]
    },
    {
      "cell_type": "markdown",
      "source": [
        "### ยกกำลัง**"
      ],
      "metadata": {
        "id": "iaDjHfa8UOAb"
      }
    },
    {
      "cell_type": "code",
      "source": [
        "2**10"
      ],
      "metadata": {
        "colab": {
          "base_uri": "https://localhost:8080/"
        },
        "id": "g0AUuBibUdmn",
        "outputId": "9595cf4e-256d-465f-de69-7d879aa2a44f"
      },
      "execution_count": null,
      "outputs": [
        {
          "output_type": "execute_result",
          "data": {
            "text/plain": [
              "1024"
            ]
          },
          "metadata": {},
          "execution_count": 33
        }
      ]
    },
    {
      "cell_type": "markdown",
      "source": [
        "# sting ('' & \"\" )"
      ],
      "metadata": {
        "id": "qoNAU2TCefuO"
      }
    },
    {
      "cell_type": "code",
      "source": [
        "'1'+'3'"
      ],
      "metadata": {
        "colab": {
          "base_uri": "https://localhost:8080/",
          "height": 34
        },
        "id": "WYCTaa3LeivI",
        "outputId": "63284a55-dcc0-4743-d1bb-5ce7af04a93d"
      },
      "execution_count": null,
      "outputs": [
        {
          "output_type": "execute_result",
          "data": {
            "text/plain": [
              "'13'"
            ],
            "application/vnd.google.colaboratory.intrinsic+json": {
              "type": "string"
            }
          },
          "metadata": {},
          "execution_count": 34
        }
      ]
    },
    {
      "cell_type": "code",
      "source": [
        "5*'6' # เบิ้ลจน.string ด้วยการคูณ"
      ],
      "metadata": {
        "colab": {
          "base_uri": "https://localhost:8080/",
          "height": 34
        },
        "id": "AaBBYxCsemrN",
        "outputId": "77c416c3-d8ef-4987-d663-1716f150e777"
      },
      "execution_count": null,
      "outputs": [
        {
          "output_type": "execute_result",
          "data": {
            "text/plain": [
              "'66666'"
            ],
            "application/vnd.google.colaboratory.intrinsic+json": {
              "type": "string"
            }
          },
          "metadata": {},
          "execution_count": 35
        }
      ]
    },
    {
      "cell_type": "code",
      "source": [
        "8*'Stat'"
      ],
      "metadata": {
        "colab": {
          "base_uri": "https://localhost:8080/",
          "height": 34
        },
        "id": "jdHGpdCeepyx",
        "outputId": "2908d209-78e4-4b17-9390-a18e9586550d"
      },
      "execution_count": null,
      "outputs": [
        {
          "output_type": "execute_result",
          "data": {
            "text/plain": [
              "'StatStatStatStatStatStatStatStat'"
            ],
            "application/vnd.google.colaboratory.intrinsic+json": {
              "type": "string"
            }
          },
          "metadata": {},
          "execution_count": 36
        }
      ]
    },
    {
      "cell_type": "markdown",
      "source": [
        "# Quiz1\n",
        "print มาก ที่มี ก.ไก่ 100 ตัว"
      ],
      "metadata": {
        "id": "MD7Ko3GDeut0"
      }
    },
    {
      "cell_type": "code",
      "source": [
        "print('มา'+'ก'*100)"
      ],
      "metadata": {
        "colab": {
          "base_uri": "https://localhost:8080/"
        },
        "id": "f8u7dO2oe0YN",
        "outputId": "975148f4-fd1e-47c6-8c19-da1bab344b86"
      },
      "execution_count": null,
      "outputs": [
        {
          "output_type": "stream",
          "name": "stdout",
          "text": [
            "มากกกกกกกกกกกกกกกกกกกกกกกกกกกกกกกกกกกกกกกกกกกกกกกกกกกกกกกกกกกกกกกกกกกกกกกกกกกกกกกกกกกกกกกกกกกกกกกกกกกก\n"
          ]
        }
      ]
    },
    {
      "cell_type": "markdown",
      "source": [
        "### ลองทำ"
      ],
      "metadata": {
        "id": "cmWGkr5iqnh7"
      }
    },
    {
      "cell_type": "code",
      "source": [
        "print ('A'+('I'*26)+'A')"
      ],
      "metadata": {
        "id": "HAJ4IFCRojOd",
        "outputId": "58b1eaeb-ed3f-4a48-e21f-8b0594362c0d",
        "colab": {
          "base_uri": "https://localhost:8080/"
        }
      },
      "execution_count": 10,
      "outputs": [
        {
          "output_type": "stream",
          "name": "stdout",
          "text": [
            "AIIIIIIIIIIIIIIIIIIIIIIIIIIA\n"
          ]
        }
      ]
    },
    {
      "cell_type": "markdown",
      "source": [
        "เขียนชื่อตัวเอง 2 รอบ ให้คั่นด้วยขีด(- -) เเละจบเเสดงว่าจบ"
      ],
      "metadata": {
        "id": "iEgxF7KIpwD8"
      }
    },
    {
      "cell_type": "code",
      "source": [
        "print('บีม','บีม' ,'บีม' , sep = ' - ' , end ='\\nจบ')\n",
        "##"
      ],
      "metadata": {
        "id": "A_gfClxTpNLw",
        "outputId": "cba89a45-9fc1-466e-8b8c-229eab62daff",
        "colab": {
          "base_uri": "https://localhost:8080/"
        }
      },
      "execution_count": 15,
      "outputs": [
        {
          "output_type": "stream",
          "name": "stdout",
          "text": [
            "บีม - บีม - บีม\n",
            "จบ"
          ]
        }
      ]
    },
    {
      "cell_type": "markdown",
      "source": [
        "## ข้อกำหนดในการตั้งชื่อตัวแปร\n",
        "1. พยายามตั้งชื่อให้สื่อความหมาย\n",
        "2. ต้องเป็นภาษาอังกฤษ\n",
        "3. ใช้ตัวเลขผสมกับตัวหนังสือได้ แต่ห้ามขึ้นต้นด้วยตัวเลข\n",
        "4. ห้ามมีเว้นวรรคในชื่อตัวแปร\n",
        "5.ตัวใหญ่ตัวเล็ก มีค่าไม่เท่ากัน"
      ],
      "metadata": {
        "id": "8qpcHFr0V4_a"
      }
    },
    {
      "cell_type": "markdown",
      "source": [
        "## Advanced Printing ( print code ร่วมกับข้อความ)\n",
        "เราสามารถ print code ร่วมกับข้อความได้\n",
        "** { } มาคู่กับ f\n",
        "\n",
        "```python\n",
        "print(f'ข้อความ{code}')\n",
        "```\n",
        "\n",
        "```Python\n",
        "print(f'หนึ่ง บวก สอง (1+2) เท่ากับ สาม ({1+2})')\n",
        "```"
      ],
      "metadata": {
        "id": "ioBKz9DSW-aJ"
      }
    },
    {
      "cell_type": "code",
      "source": [
        "print(f'หนึ่ง บวก สอง (1+2) เท่ากับ สาม ({1+2})')  # {}  Curly Brackets เอาไว้ใส่ code ที่อยากให้ผลรันคำนวณรวมกับข้อความได้\n",
        ""
      ],
      "metadata": {
        "colab": {
          "base_uri": "https://localhost:8080/"
        },
        "id": "EWWpPiEAifRy",
        "outputId": "e4f092a7-6dd6-48a3-c60c-5c7924edd2b7"
      },
      "execution_count": null,
      "outputs": [
        {
          "output_type": "stream",
          "name": "stdout",
          "text": [
            "หนึ่ง บวก สอง (1+2) เท่ากับ สาม (3)\n"
          ]
        }
      ]
    },
    {
      "cell_type": "code",
      "source": [
        "print(f'ตัวแปร c = {c}')"
      ],
      "metadata": {
        "id": "R_-Rj6q-YnO1",
        "colab": {
          "base_uri": "https://localhost:8080/"
        },
        "outputId": "48730886-2b3c-43f7-aaa9-fa6701d6adee"
      },
      "execution_count": null,
      "outputs": [
        {
          "output_type": "stream",
          "name": "stdout",
          "text": [
            "ตัวแปร c = 9.23076923076923\n"
          ]
        }
      ]
    },
    {
      "cell_type": "code",
      "source": [
        "print(f'ส่วนนี้ไม่ใช่ code>2*3 3-5 // ส่วนของ code>{2*3} {3-5}')"
      ],
      "metadata": {
        "colab": {
          "base_uri": "https://localhost:8080/"
        },
        "id": "u64NGXiCYKgM",
        "outputId": "a73af9f9-5f3a-4276-9458-5147c29d40de"
      },
      "execution_count": null,
      "outputs": [
        {
          "output_type": "stream",
          "name": "stdout",
          "text": [
            "ส่วนนี้ไม่ใช่ code>2*3 3-5 // ส่วนของ code>6 -2\n"
          ]
        }
      ]
    },
    {
      "cell_type": "code",
      "source": [
        "print(f'หนึ่ง บวก สอง (1+2) เท่ากับ สาม ({1+2})') #Curly Brackets"
      ],
      "metadata": {
        "colab": {
          "base_uri": "https://localhost:8080/"
        },
        "id": "R7LX5RkNX13U",
        "outputId": "2220563e-46ac-4ec8-a818-d42e8d10c20a"
      },
      "execution_count": null,
      "outputs": [
        {
          "output_type": "stream",
          "name": "stdout",
          "text": [
            "หนึ่ง บวก สอง (1+2) เท่ากับ สาม (3)\n"
          ]
        }
      ]
    },
    {
      "cell_type": "code",
      "source": [
        "a = 1\n",
        "b = 2\n",
        "print(f'หนึ่ง บวก สอง ({a}+{b}) เท่ากับ สาม ({a+b})')"
      ],
      "metadata": {
        "colab": {
          "base_uri": "https://localhost:8080/"
        },
        "id": "mVxIA-ygZQ87",
        "outputId": "cad17fc7-d30a-4ea3-d908-cbe6ccbdd18f"
      },
      "execution_count": null,
      "outputs": [
        {
          "output_type": "stream",
          "name": "stdout",
          "text": [
            "หนึ่ง บวก สอง (1+2) เท่ากับ สาม (3)\n"
          ]
        }
      ]
    },
    {
      "cell_type": "code",
      "source": [
        "a = 5\n",
        "b = 2"
      ],
      "metadata": {
        "id": "BMWLQp3HaPZ7"
      },
      "execution_count": null,
      "outputs": []
    },
    {
      "cell_type": "code",
      "source": [
        "print(f'{a}+{b} = {a+b}')"
      ],
      "metadata": {
        "colab": {
          "base_uri": "https://localhost:8080/"
        },
        "id": "060E9xI7tJaG",
        "outputId": "875b9c2e-60e7-4a17-ec09-d033cb807fd9"
      },
      "execution_count": null,
      "outputs": [
        {
          "output_type": "stream",
          "name": "stdout",
          "text": [
            "5+2 = 7\n"
          ]
        }
      ]
    },
    {
      "cell_type": "markdown",
      "source": [
        "###  decimal place ( ทศนิยมกี่ตำแหน่ง ) || digit\n",
        "decimal place"
      ],
      "metadata": {
        "id": "cvBvE4FVLSWr"
      }
    },
    {
      "cell_type": "code",
      "source": [
        "f'{1.009:.2f}' # 2f คือการเลขที่มีทศนิยมหลายตำเเหน่งให้เป็น 2 ตำแหน่ง (f=forn)\n",
        "                   #มีปัดเศษขึ้น"
      ],
      "metadata": {
        "id": "GssHgz0zfsSH",
        "outputId": "9080e998-b648-4b0b-ebd1-5b351c994951",
        "colab": {
          "base_uri": "https://localhost:8080/",
          "height": 34
        }
      },
      "execution_count": null,
      "outputs": [
        {
          "output_type": "execute_result",
          "data": {
            "text/plain": [
              "'1.01'"
            ],
            "application/vnd.google.colaboratory.intrinsic+json": {
              "type": "string"
            }
          },
          "metadata": {},
          "execution_count": 44
        }
      ]
    },
    {
      "cell_type": "code",
      "source": [
        "f'{c:.2f}' # c คือตัวแปร c ที่เราสร้างเเล้วด้านบน"
      ],
      "metadata": {
        "id": "y6i7RkhnbUaK"
      },
      "execution_count": null,
      "outputs": []
    },
    {
      "cell_type": "markdown",
      "source": [
        "digit\n"
      ],
      "metadata": {
        "id": "-H9WCbJsf00c"
      }
    },
    {
      "cell_type": "code",
      "source": [
        "f'{1:03d}' #อยากให้เลขที่ใส่มีกี่หลัก เช่น เลข 1 ในรูปแบบเลข 3 หลัก"
      ],
      "metadata": {
        "id": "W41qF4ylf2RB",
        "outputId": "c585178b-56b5-4463-b993-6c21b4954ea2",
        "colab": {
          "base_uri": "https://localhost:8080/",
          "height": 34
        }
      },
      "execution_count": null,
      "outputs": [
        {
          "output_type": "execute_result",
          "data": {
            "text/plain": [
              "'001'"
            ],
            "application/vnd.google.colaboratory.intrinsic+json": {
              "type": "string"
            }
          },
          "metadata": {},
          "execution_count": 45
        }
      ]
    },
    {
      "cell_type": "markdown",
      "source": [
        "## ชนิดของตัวแปร\n"
      ],
      "metadata": {
        "id": "TDIPg9nhtZT1"
      }
    },
    {
      "cell_type": "markdown",
      "source": [
        "### char(acter) (ตัวอักษร)\n",
        "\n",
        "- มี 1 ตัว = ตัวอักษร\n",
        "- เอาตัวอักษรมาต่อกัน = ข้อความ\n",
        "- operator ในการ บวก ลบ คูณ หาร เหมือนกับ 'ข้อความ'"
      ],
      "metadata": {
        "id": "NWxPKE3htcHu"
      }
    },
    {
      "cell_type": "code",
      "source": [
        "a = 'C '"
      ],
      "metadata": {
        "id": "WZ7UHpFRtirB"
      },
      "execution_count": null,
      "outputs": []
    },
    {
      "cell_type": "code",
      "source": [
        "b = 'haracter'"
      ],
      "metadata": {
        "id": "_7-1_R8YtmPu"
      },
      "execution_count": null,
      "outputs": []
    },
    {
      "cell_type": "code",
      "source": [
        "print(f'a={a} b={b}, then {a}+{b} = {a+b}')"
      ],
      "metadata": {
        "colab": {
          "base_uri": "https://localhost:8080/"
        },
        "id": "iR1F_3gXtpqA",
        "outputId": "8c8ae13b-99f1-4332-b5ab-f5ff0c340780"
      },
      "execution_count": null,
      "outputs": [
        {
          "output_type": "stream",
          "name": "stdout",
          "text": [
            "a=C  b=haracter, then C +haracter = C haracter\n"
          ]
        }
      ]
    },
    {
      "cell_type": "code",
      "source": [
        "A = 'c'\n",
        "B = 'a'"
      ],
      "metadata": {
        "id": "ToiDzo_RtteU"
      },
      "execution_count": null,
      "outputs": []
    },
    {
      "cell_type": "code",
      "source": [
        "print(A+B)"
      ],
      "metadata": {
        "colab": {
          "base_uri": "https://localhost:8080/"
        },
        "id": "SD5NdgoOtv54",
        "outputId": "db89b123-defd-48c3-9f45-ecca836e2576"
      },
      "execution_count": null,
      "outputs": [
        {
          "output_type": "stream",
          "name": "stdout",
          "text": [
            "ca\n"
          ]
        }
      ]
    },
    {
      "cell_type": "markdown",
      "source": [
        "### int(eger) (จำนวนเต็ม)"
      ],
      "metadata": {
        "id": "yiNw6ea5ty70"
      }
    },
    {
      "cell_type": "code",
      "source": [
        "int_a = 7\n",
        "int_b = 2"
      ],
      "metadata": {
        "id": "1kvzb3yyt3zB"
      },
      "execution_count": null,
      "outputs": []
    },
    {
      "cell_type": "code",
      "source": [
        "int_c = int_a + int_b\n",
        "print(int_c,type(int_c)) # print ค่า int_c และ data type ของตัวแปรด้วย"
      ],
      "metadata": {
        "colab": {
          "base_uri": "https://localhost:8080/"
        },
        "id": "e3iN8lIrt7AX",
        "outputId": "f23e3176-be20-4b37-c1ed-82301aee4baf"
      },
      "execution_count": null,
      "outputs": [
        {
          "output_type": "stream",
          "name": "stdout",
          "text": [
            "9 <class 'int'>\n"
          ]
        }
      ]
    },
    {
      "cell_type": "markdown",
      "source": [
        "### float (จำนวนจริง ทศนิยม)\n",
        "    double เหมือน float เเต่แค่ใช้พื้นที่เก็บข้อมูลมากกว่า"
      ],
      "metadata": {
        "id": "Q1YoWWn_ug0G"
      }
    },
    {
      "cell_type": "code",
      "source": [
        "fl_a = 7.  # เขียนแค่จุดก็ได้ไม่ต้องใส่ 000\n",
        "fl_b = 2.571"
      ],
      "metadata": {
        "id": "UCeFO3Xhulln"
      },
      "execution_count": null,
      "outputs": []
    },
    {
      "cell_type": "code",
      "source": [
        "fl_a # เรียกแสดงค่าที่ตัวแปรเก็บ"
      ],
      "metadata": {
        "colab": {
          "base_uri": "https://localhost:8080/"
        },
        "id": "Mzll_99fuuUC",
        "outputId": "40431c92-b952-4ca7-aa33-1841958ef454"
      },
      "execution_count": null,
      "outputs": [
        {
          "output_type": "execute_result",
          "data": {
            "text/plain": [
              "7.0"
            ]
          },
          "metadata": {},
          "execution_count": 8
        }
      ]
    },
    {
      "cell_type": "code",
      "source": [
        "fl_b\n"
      ],
      "metadata": {
        "colab": {
          "base_uri": "https://localhost:8080/"
        },
        "id": "k8OSG4wEu7qr",
        "outputId": "e7d032f0-d38c-4a6a-a6f4-8422968feb28"
      },
      "execution_count": null,
      "outputs": [
        {
          "output_type": "execute_result",
          "data": {
            "text/plain": [
              "2.571"
            ]
          },
          "metadata": {},
          "execution_count": 9
        }
      ]
    },
    {
      "cell_type": "code",
      "source": [
        "print(fl_a)"
      ],
      "metadata": {
        "colab": {
          "base_uri": "https://localhost:8080/"
        },
        "id": "EUHK9PhGvB4Z",
        "outputId": "1a53b526-1069-4b47-c0bf-a13300417d12"
      },
      "execution_count": null,
      "outputs": [
        {
          "output_type": "stream",
          "name": "stdout",
          "text": [
            "7.0\n"
          ]
        }
      ]
    },
    {
      "cell_type": "code",
      "source": [
        "z = 7/3\n",
        "print (z,type(z))"
      ],
      "metadata": {
        "id": "c_Q0Ie97R9Ro",
        "outputId": "ce4b7887-b421-42c8-fdc1-757ad40036bb",
        "colab": {
          "base_uri": "https://localhost:8080/"
        }
      },
      "execution_count": null,
      "outputs": [
        {
          "output_type": "stream",
          "name": "stdout",
          "text": [
            "2.3333333333333335 <class 'float'>\n"
          ]
        }
      ]
    },
    {
      "cell_type": "markdown",
      "source": [
        "### boolean (ตัวแปรที่มีค่า True หรือ False) ตรรกศาสตร์"
      ],
      "metadata": {
        "id": "eWXJHDlavIHW"
      }
    },
    {
      "cell_type": "code",
      "source": [
        "b_T = True # True,False ตั้งเป็นชื่อตัวเเปรไม่ได้เพราะเป็นคำสงวน มีผลต่อpython"
      ],
      "metadata": {
        "id": "DPBMihn-vKyp"
      },
      "execution_count": null,
      "outputs": []
    },
    {
      "cell_type": "code",
      "source": [
        "b_F = False"
      ],
      "metadata": {
        "id": "pj14n8PYvQJA"
      },
      "execution_count": null,
      "outputs": []
    },
    {
      "cell_type": "code",
      "source": [
        "print(b_T and b_F) # ใช้ & แทน and ได้ (จริงและเท็จเป็นเท็จ)"
      ],
      "metadata": {
        "colab": {
          "base_uri": "https://localhost:8080/"
        },
        "id": "kY6iwkEsvTwy",
        "outputId": "eef58a5d-c785-4f57-ca4b-2f9ca8016e8b"
      },
      "execution_count": null,
      "outputs": [
        {
          "output_type": "stream",
          "name": "stdout",
          "text": [
            "False\n"
          ]
        }
      ]
    },
    {
      "cell_type": "code",
      "source": [
        "print(b_T or b_F) # ใช้ | แทน or ได้"
      ],
      "metadata": {
        "colab": {
          "base_uri": "https://localhost:8080/"
        },
        "id": "vcRrzk_QvWoE",
        "outputId": "673f0997-8005-48e2-9e4e-4bbc311954c3"
      },
      "execution_count": null,
      "outputs": [
        {
          "output_type": "stream",
          "name": "stdout",
          "text": [
            "True\n"
          ]
        }
      ]
    },
    {
      "cell_type": "markdown",
      "source": [
        "### complex (จำนวนเชิงซ้อน)\n",
        "    จน.จริง + จน.จินตภาพ"
      ],
      "metadata": {
        "id": "jbSnNqhPvc7D"
      }
    },
    {
      "cell_type": "code",
      "source": [
        "x = 1 + 2j"
      ],
      "metadata": {
        "id": "fPWokv4cve2g"
      },
      "execution_count": null,
      "outputs": []
    },
    {
      "cell_type": "code",
      "source": [
        "print(x,type(x))"
      ],
      "metadata": {
        "colab": {
          "base_uri": "https://localhost:8080/"
        },
        "id": "rf30M4Zjvj5G",
        "outputId": "49d45d4e-2348-4567-a04b-18371b8a27c9"
      },
      "execution_count": null,
      "outputs": [
        {
          "output_type": "stream",
          "name": "stdout",
          "text": [
            "(1+2j) <class 'complex'>\n"
          ]
        }
      ]
    },
    {
      "cell_type": "markdown",
      "source": [
        "### เราสามารถตรวจสอบชนิดของตัวแปรด้วยคำสั่ง type()"
      ],
      "metadata": {
        "id": "bpYtyNhSwC8R"
      }
    },
    {
      "cell_type": "markdown",
      "source": [
        "```type()```"
      ],
      "metadata": {
        "id": "NpJ4JLgKwLcg"
      }
    },
    {
      "cell_type": "code",
      "source": [
        "print(f'ตัวแปร x ค่าคือ {x} ชนิด {type(x)}')"
      ],
      "metadata": {
        "colab": {
          "base_uri": "https://localhost:8080/"
        },
        "id": "zMq2ttHTwNp_",
        "outputId": "0d09ae26-b846-4188-8989-a41ac10b72af"
      },
      "execution_count": null,
      "outputs": [
        {
          "output_type": "stream",
          "name": "stdout",
          "text": [
            "ตัวแปร x ค่าคือ (1+2j) ชนิด <class 'complex'>\n"
          ]
        }
      ]
    },
    {
      "cell_type": "code",
      "source": [
        "print(f'ตัวแปร A ค่าคือ {A} ชนิด {type(A)}')"
      ],
      "metadata": {
        "colab": {
          "base_uri": "https://localhost:8080/"
        },
        "id": "7yo0hgO5wQ7o",
        "outputId": "205b8c0b-fb12-4c64-8425-0d6e83b07ff8"
      },
      "execution_count": null,
      "outputs": [
        {
          "output_type": "stream",
          "name": "stdout",
          "text": [
            "ตัวแปร A ค่าคือ c ชนิด <class 'str'>\n"
          ]
        }
      ]
    },
    {
      "cell_type": "code",
      "source": [
        "print(f'ตัวแปร a ค่าคือ {a} ชนิด {type(a)}')"
      ],
      "metadata": {
        "colab": {
          "base_uri": "https://localhost:8080/"
        },
        "id": "VWp_zgwIwUBW",
        "outputId": "61695a84-fd7a-4a62-ba56-076acec89bad"
      },
      "execution_count": null,
      "outputs": [
        {
          "output_type": "stream",
          "name": "stdout",
          "text": [
            "ตัวแปร a ค่าคือ 5 ชนิด <class 'int'>\n"
          ]
        }
      ]
    },
    {
      "cell_type": "markdown",
      "source": [
        "# การแปลงชนิดของตัวแปร (Variable Casting) #เปลี่ยนชนิดของตัวแปล"
      ],
      "metadata": {
        "id": "sseIs4FieTM-"
      }
    },
    {
      "cell_type": "code",
      "source": [
        "print(f'int_a = {int_a} int_b = {int_b} fl_a = {fl_a} fl_b = {fl_b}')"
      ],
      "metadata": {
        "colab": {
          "base_uri": "https://localhost:8080/"
        },
        "id": "qJXV88hteXEZ",
        "outputId": "9d780f79-4cb6-41a2-a7fe-57b16ae2afa7"
      },
      "execution_count": null,
      "outputs": [
        {
          "output_type": "stream",
          "name": "stdout",
          "text": [
            "int_a = 7 int_b = 2 fl_a = 7.0 fl_b = 2.571\n"
          ]
        }
      ]
    },
    {
      "cell_type": "code",
      "source": [
        "str_a = '6'   # str บวก ลบ คูณหารกันไม่ได้ (str = string)\n",
        "str_b = '-2'"
      ],
      "metadata": {
        "id": "XMrOjBDcflHq"
      },
      "execution_count": null,
      "outputs": []
    },
    {
      "cell_type": "code",
      "source": [
        "str_a + int_a  #บวกกันไม่ได้ เพราะคนละ type"
      ],
      "metadata": {
        "colab": {
          "base_uri": "https://localhost:8080/",
          "height": 166
        },
        "id": "Y2oYHGaQeWpa",
        "outputId": "6dbcc14c-8903-4aaf-b1a4-39c68137a2e4"
      },
      "execution_count": null,
      "outputs": [
        {
          "output_type": "error",
          "ename": "TypeError",
          "evalue": "ignored",
          "traceback": [
            "\u001b[0;31m---------------------------------------------------------------------------\u001b[0m",
            "\u001b[0;31mTypeError\u001b[0m                                 Traceback (most recent call last)",
            "\u001b[0;32m<ipython-input-53-08564b992470>\u001b[0m in \u001b[0;36m<cell line: 1>\u001b[0;34m()\u001b[0m\n\u001b[0;32m----> 1\u001b[0;31m \u001b[0mstr_a\u001b[0m \u001b[0;34m+\u001b[0m \u001b[0mint_a\u001b[0m  \u001b[0;31m#บวกกันไม่ได้ เพราะคนละ type\u001b[0m\u001b[0;34m\u001b[0m\u001b[0;34m\u001b[0m\u001b[0m\n\u001b[0m",
            "\u001b[0;31mTypeError\u001b[0m: can only concatenate str (not \"int\") to str"
          ]
        }
      ]
    },
    {
      "cell_type": "code",
      "source": [
        "str_a2int = int(str_a) #เปลี่ยน str เป็น int\n",
        "                               # เปลี่ยนเลข 6 เป็นตัวหนังสือ\n",
        "print(f'ตัวแปร str_a2int ค่าคือ {str_a2int} ชนิด {type(str_a2int)}')"
      ],
      "metadata": {
        "colab": {
          "base_uri": "https://localhost:8080/"
        },
        "id": "53scNnO9dvdm",
        "outputId": "8b465711-0fc8-4219-b476-9c7c5479ea6a"
      },
      "execution_count": null,
      "outputs": [
        {
          "output_type": "stream",
          "name": "stdout",
          "text": [
            "ตัวแปร str_a2int ค่าคือ 6 ชนิด <class 'int'>\n"
          ]
        }
      ]
    },
    {
      "cell_type": "code",
      "source": [
        "str_a2int + int_a"
      ],
      "metadata": {
        "colab": {
          "base_uri": "https://localhost:8080/"
        },
        "id": "5POiVc3uePdf",
        "outputId": "b4047009-c86c-443c-ed80-31e31dba5a52"
      },
      "execution_count": null,
      "outputs": [
        {
          "output_type": "execute_result",
          "data": {
            "text/plain": [
              "13"
            ]
          },
          "metadata": {},
          "execution_count": 54
        }
      ]
    },
    {
      "cell_type": "code",
      "source": [
        "int_a + float(str_b)"
      ],
      "metadata": {
        "id": "7TAi7FBjX1Qf",
        "outputId": "977c0560-4128-41f0-d310-eb57af34b22a",
        "colab": {
          "base_uri": "https://localhost:8080/"
        }
      },
      "execution_count": null,
      "outputs": [
        {
          "output_type": "execute_result",
          "data": {
            "text/plain": [
              "5.0"
            ]
          },
          "metadata": {},
          "execution_count": 56
        }
      ]
    },
    {
      "cell_type": "code",
      "source": [
        "int(int_a + float(str_b)) # ถ้าจะเปลี่ยนชนิด can ฟังก์ชันซ้อนกันเเล้วครอบได้เลย ต่อให้จะคนละชนิดก็ตาม"
      ],
      "metadata": {
        "id": "7mSgxHrTY39S",
        "outputId": "e88cc808-abc3-4b95-a5d3-174354db4756",
        "colab": {
          "base_uri": "https://localhost:8080/"
        }
      },
      "execution_count": null,
      "outputs": [
        {
          "output_type": "execute_result",
          "data": {
            "text/plain": [
              "5"
            ]
          },
          "metadata": {},
          "execution_count": 57
        }
      ]
    },
    {
      "cell_type": "code",
      "source": [
        "int(fl_b) # fl_b = 2.571 เปลี่ยนเป็น int ได้ 2 เพราะตัดทิ้งหลังทศหมด ต่อให้.5 ก็ไม่ปัด"
      ],
      "metadata": {
        "colab": {
          "base_uri": "https://localhost:8080/"
        },
        "id": "bo4rlNX_eokh",
        "outputId": "247c7a23-e49d-4602-db67-a93bb5d8a2aa"
      },
      "execution_count": null,
      "outputs": [
        {
          "output_type": "execute_result",
          "data": {
            "text/plain": [
              "2"
            ]
          },
          "metadata": {},
          "execution_count": 36
        }
      ]
    },
    {
      "cell_type": "code",
      "source": [
        "float(int_a) #เปลี่ยนเป็น ทศ"
      ],
      "metadata": {
        "colab": {
          "base_uri": "https://localhost:8080/"
        },
        "id": "wTk9rvbjfP2j",
        "outputId": "92673f4d-49ec-4fc4-b7fe-71507b7cd04c"
      },
      "execution_count": null,
      "outputs": [
        {
          "output_type": "execute_result",
          "data": {
            "text/plain": [
              "7.0"
            ]
          },
          "metadata": {},
          "execution_count": 37
        }
      ]
    },
    {
      "cell_type": "code",
      "source": [
        "str(fl_b)  #เปลี่ยนเป็นข้อความ"
      ],
      "metadata": {
        "colab": {
          "base_uri": "https://localhost:8080/",
          "height": 36
        },
        "id": "YxltOS6efL7s",
        "outputId": "b86ca61e-b926-4f5b-a351-9bcc3845c7de"
      },
      "execution_count": null,
      "outputs": [
        {
          "output_type": "execute_result",
          "data": {
            "text/plain": [
              "'2.571'"
            ],
            "application/vnd.google.colaboratory.intrinsic+json": {
              "type": "string"
            }
          },
          "metadata": {},
          "execution_count": 38
        }
      ]
    },
    {
      "cell_type": "markdown",
      "source": [
        "## Operation เอาตัวแปรสองตัวมาทำอะไรกัน"
      ],
      "metadata": {
        "id": "My31ZR8Df_-x"
      }
    },
    {
      "cell_type": "markdown",
      "source": [
        "### operators (บวก (+), ลบ (-), คูณ (*), หาร (/), modulo (%), and (&), or (|))"
      ],
      "metadata": {
        "id": "w_5digYogMc3"
      }
    },
    {
      "cell_type": "code",
      "source": [
        "fl_a + int_b #ทศ บวก เต็ม ได้ ทศ เพราะทศใหญ่กว่า"
      ],
      "metadata": {
        "colab": {
          "base_uri": "https://localhost:8080/"
        },
        "id": "jzcV31M0fuhh",
        "outputId": "2ab0c393-68d3-4ebd-b5cf-b8394cd35501"
      },
      "execution_count": null,
      "outputs": [
        {
          "output_type": "execute_result",
          "data": {
            "text/plain": [
              "9.0"
            ]
          },
          "metadata": {},
          "execution_count": 39
        }
      ]
    },
    {
      "cell_type": "code",
      "source": [
        "9%2 #การหาร เอาเศษ  เช็คได้ว่าเป็นคู่หรือคี่"
      ],
      "metadata": {
        "id": "O6oZ07y4gzAp",
        "colab": {
          "base_uri": "https://localhost:8080/"
        },
        "outputId": "c5494034-f6fc-4f41-aeb0-4c8b5ba0e684"
      },
      "execution_count": null,
      "outputs": [
        {
          "output_type": "execute_result",
          "data": {
            "text/plain": [
              "1"
            ]
          },
          "metadata": {},
          "execution_count": 60
        }
      ]
    },
    {
      "cell_type": "code",
      "source": [
        "100%2"
      ],
      "metadata": {
        "colab": {
          "base_uri": "https://localhost:8080/"
        },
        "id": "flPC9rANgRwv",
        "outputId": "1f372d23-ee20-43be-c1ed-e2b0885d597a"
      },
      "execution_count": null,
      "outputs": [
        {
          "output_type": "execute_result",
          "data": {
            "text/plain": [
              "0"
            ]
          },
          "metadata": {},
          "execution_count": 41
        }
      ]
    },
    {
      "cell_type": "code",
      "source": [
        "100%7"
      ],
      "metadata": {
        "id": "hZDynaOMbteG",
        "outputId": "c351c51d-6136-4f39-8f17-851dc175fee3",
        "colab": {
          "base_uri": "https://localhost:8080/"
        }
      },
      "execution_count": null,
      "outputs": [
        {
          "output_type": "execute_result",
          "data": {
            "text/plain": [
              "2"
            ]
          },
          "metadata": {},
          "execution_count": 61
        }
      ]
    },
    {
      "cell_type": "code",
      "source": [
        "int_a / int_b"
      ],
      "metadata": {
        "colab": {
          "base_uri": "https://localhost:8080/"
        },
        "id": "6PP5A3qqgYyC",
        "outputId": "6038944b-4aa0-41f6-cf6b-ea397b5e6584"
      },
      "execution_count": null,
      "outputs": [
        {
          "output_type": "execute_result",
          "data": {
            "text/plain": [
              "3.5"
            ]
          },
          "metadata": {},
          "execution_count": 42
        }
      ]
    },
    {
      "cell_type": "code",
      "source": [
        "int(int_a / int_b) #หารเอาส่วน เอาแค่จำนวนเต็ม"
      ],
      "metadata": {
        "colab": {
          "base_uri": "https://localhost:8080/"
        },
        "id": "86tVLoSmgams",
        "outputId": "09bf1d90-75ce-427e-d950-ec6bc43f2cb5"
      },
      "execution_count": null,
      "outputs": [
        {
          "output_type": "execute_result",
          "data": {
            "text/plain": [
              "3"
            ]
          },
          "metadata": {},
          "execution_count": 43
        }
      ]
    },
    {
      "cell_type": "code",
      "source": [
        "False & False"
      ],
      "metadata": {
        "colab": {
          "base_uri": "https://localhost:8080/"
        },
        "id": "7CtD-pRygc7B",
        "outputId": "fefa5f07-bd21-4b64-b294-31ba1cb0c3be"
      },
      "execution_count": null,
      "outputs": [
        {
          "output_type": "execute_result",
          "data": {
            "text/plain": [
              "False"
            ]
          },
          "metadata": {},
          "execution_count": 44
        }
      ]
    },
    {
      "cell_type": "code",
      "source": [
        "False & True"
      ],
      "metadata": {
        "colab": {
          "base_uri": "https://localhost:8080/"
        },
        "id": "o00yKpNpgevb",
        "outputId": "35c1b36c-f293-4f0b-cd3f-f1bfdc49fab7"
      },
      "execution_count": null,
      "outputs": [
        {
          "output_type": "execute_result",
          "data": {
            "text/plain": [
              "False"
            ]
          },
          "metadata": {},
          "execution_count": 45
        }
      ]
    },
    {
      "cell_type": "code",
      "source": [
        "False | True # | = or"
      ],
      "metadata": {
        "colab": {
          "base_uri": "https://localhost:8080/"
        },
        "id": "nu9Ca_BOghCx",
        "outputId": "169da31d-c85e-4dd3-9773-48dfd940d753"
      },
      "execution_count": null,
      "outputs": [
        {
          "output_type": "execute_result",
          "data": {
            "text/plain": [
              "True"
            ]
          },
          "metadata": {},
          "execution_count": 46
        }
      ]
    },
    {
      "cell_type": "code",
      "source": [
        "print(200**(1/2)) #หารากที่ 2 ของ 200 โดยใช้ยกกำลัง(**)"
      ],
      "metadata": {
        "id": "xH0OR2N9dIxt",
        "outputId": "300f5edc-931b-46af-e6bc-471fe81b87dd",
        "colab": {
          "base_uri": "https://localhost:8080/"
        }
      },
      "execution_count": null,
      "outputs": [
        {
          "output_type": "stream",
          "name": "stdout",
          "text": [
            "14.142135623730951\n"
          ]
        }
      ]
    },
    {
      "cell_type": "markdown",
      "source": [
        "### String operations #การทำงานกับข้อความ"
      ],
      "metadata": {
        "id": "YrFJUFv1gi0t"
      }
    },
    {
      "cell_type": "markdown",
      "source": [
        "### ``+ ``-> concat(บวก),` * `-> repeat (ทำซ้ำ)"
      ],
      "metadata": {
        "id": "CuW8TVZNgsT5"
      }
    },
    {
      "cell_type": "code",
      "source": [
        "st_test1 = 'Department of Statistics, '\n",
        "st_test2 = 'Faculty of Science'"
      ],
      "metadata": {
        "id": "0U-DcBWegmyN"
      },
      "execution_count": null,
      "outputs": []
    },
    {
      "cell_type": "code",
      "source": [
        "print(st_test1+st_test2) # บวก คือการต่อข้อความ"
      ],
      "metadata": {
        "colab": {
          "base_uri": "https://localhost:8080/"
        },
        "id": "AvdbZ-Nfg1Gd",
        "outputId": "0380ec0e-05fc-4457-b4a3-5c2520753ecf"
      },
      "execution_count": null,
      "outputs": [
        {
          "output_type": "stream",
          "name": "stdout",
          "text": [
            "Department of Statistics, Faculty of Science\n"
          ]
        }
      ]
    },
    {
      "cell_type": "code",
      "source": [
        "print(10*'t') # * คือการทำซ้ำ"
      ],
      "metadata": {
        "colab": {
          "base_uri": "https://localhost:8080/"
        },
        "id": "GwE71bEng2w-",
        "outputId": "a6ee0468-1d99-49e8-8006-2d79873b37eb"
      },
      "execution_count": null,
      "outputs": [
        {
          "output_type": "stream",
          "name": "stdout",
          "text": [
            "tttttttttt\n"
          ]
        }
      ]
    },
    {
      "cell_type": "code",
      "source": [
        "print(3*st_test1)"
      ],
      "metadata": {
        "colab": {
          "base_uri": "https://localhost:8080/"
        },
        "id": "4rQGAi4bg4rh",
        "outputId": "091ad8c5-76c3-44e3-cb36-aa0e16ea57d5"
      },
      "execution_count": null,
      "outputs": [
        {
          "output_type": "stream",
          "name": "stdout",
          "text": [
            "Department of Statistics, Department of Statistics, Department of Statistics, \n"
          ]
        }
      ]
    },
    {
      "cell_type": "code",
      "source": [
        "print(f\"มา{100*'ก'}\") #ถ้าเป็น str ซ้อน str ให้เปลี่ยน ' ' กับ \" \"\n",
        "# ตอนควิซ 1 >> print('มา'+'ก'*100)"
      ],
      "metadata": {
        "id": "VjtN_5I5fEac",
        "outputId": "37fdc9e7-7d46-4393-97fc-1379c7264e7a",
        "colab": {
          "base_uri": "https://localhost:8080/"
        }
      },
      "execution_count": null,
      "outputs": [
        {
          "output_type": "stream",
          "name": "stdout",
          "text": [
            "มากกกกกกกกกกกกกกกกกกกกกกกกกกกกกกกกกกกกกกกกกกกกกกกกกกกกกกกกกกกกกกกกกกกกกกกกกกกกกกกกกกกกกกกกกกกกกกกกกกกก\n"
          ]
        }
      ]
    },
    {
      "cell_type": "code",
      "source": [
        "print(f\"{'มา'+100*'ก'}\")"
      ],
      "metadata": {
        "id": "KlZq1ZnOgAQV",
        "outputId": "0289a61b-a254-4b8c-eb9a-07ac26af051f",
        "colab": {
          "base_uri": "https://localhost:8080/"
        }
      },
      "execution_count": null,
      "outputs": [
        {
          "output_type": "stream",
          "name": "stdout",
          "text": [
            "มากกกกกกกกกกกกกกกกกกกกกกกกกกกกกกกกกกกกกกกกกกกกกกกกกกกกกกกกกกกกกกกกกกกกกกกกกกกกกกกกกกกกกกกกกกกกกกกกกกกก\n"
          ]
        }
      ]
    },
    {
      "cell_type": "markdown",
      "source": [
        "## ```replace()``` แทนที่ string"
      ],
      "metadata": {
        "id": "LOg3BSN4g_xv"
      }
    },
    {
      "cell_type": "code",
      "source": [
        "st_test1 = 'Department of Statistics'"
      ],
      "metadata": {
        "id": "MlYMOVxehgdG"
      },
      "execution_count": null,
      "outputs": []
    },
    {
      "cell_type": "code",
      "source": [
        "st_test1.replace('e','อี') #('e',' ') ('แทนที่อะไร','ด้วยอะไร')"
      ],
      "metadata": {
        "colab": {
          "base_uri": "https://localhost:8080/",
          "height": 34
        },
        "id": "Nc7bjL5vhEAX",
        "outputId": "dc938f18-6b72-4e83-b43a-46d53824b917"
      },
      "execution_count": null,
      "outputs": [
        {
          "output_type": "execute_result",
          "data": {
            "text/plain": [
              "'Dอีpartmอีnt of Statistics, '"
            ],
            "application/vnd.google.colaboratory.intrinsic+json": {
              "type": "string"
            }
          },
          "metadata": {},
          "execution_count": 69
        }
      ]
    },
    {
      "cell_type": "code",
      "source": [
        "st_test1.replace('e','') ## ' '  = ช่องว่าง, '' = ลบ"
      ],
      "metadata": {
        "colab": {
          "base_uri": "https://localhost:8080/",
          "height": 36
        },
        "id": "uTFLnToYhE_s",
        "outputId": "3fc39b52-4d0b-4dcc-faff-1850e05450b7"
      },
      "execution_count": null,
      "outputs": [
        {
          "output_type": "execute_result",
          "data": {
            "text/plain": [
              "'Dpartmnt of Statistics, '"
            ],
            "application/vnd.google.colaboratory.intrinsic+json": {
              "type": "string"
            }
          },
          "metadata": {},
          "execution_count": 52
        }
      ]
    },
    {
      "cell_type": "code",
      "source": [
        "st_test1.replace('e',' ')"
      ],
      "metadata": {
        "id": "7pUyu8EbhM4I",
        "outputId": "e9043b0b-df5e-4794-a836-6b2e2dd30680",
        "colab": {
          "base_uri": "https://localhost:8080/",
          "height": 34
        }
      },
      "execution_count": null,
      "outputs": [
        {
          "output_type": "execute_result",
          "data": {
            "text/plain": [
              "'D partm nt of Statistics, '"
            ],
            "application/vnd.google.colaboratory.intrinsic+json": {
              "type": "string"
            }
          },
          "metadata": {},
          "execution_count": 70
        }
      ]
    },
    {
      "cell_type": "code",
      "source": [
        "'เ เถมแ เ เ แแแ เ เ แ'.replace('เ เ','แ') #แทนที่สะเเอ 2 ตัวที่ติดกัน ด้วยสระเเอ"
      ],
      "metadata": {
        "id": "f79c_0kQhxWr",
        "outputId": "ad780bdb-d2be-4f63-8241-2fe16b01603e",
        "colab": {
          "base_uri": "https://localhost:8080/",
          "height": 34
        }
      },
      "execution_count": null,
      "outputs": [
        {
          "output_type": "execute_result",
          "data": {
            "text/plain": [
              "'แถมแ แ แแแ แ แ'"
            ],
            "application/vnd.google.colaboratory.intrinsic+json": {
              "type": "string"
            }
          },
          "metadata": {},
          "execution_count": 1
        }
      ]
    },
    {
      "cell_type": "code",
      "source": [
        "st_test1"
      ],
      "metadata": {
        "colab": {
          "base_uri": "https://localhost:8080/",
          "height": 36
        },
        "id": "KhBSGnC9hGpS",
        "outputId": "25bcb2ff-2673-48ca-90df-a4868a3f8ef7"
      },
      "execution_count": null,
      "outputs": [
        {
          "output_type": "execute_result",
          "data": {
            "text/plain": [
              "'Department of Statistics, '"
            ],
            "application/vnd.google.colaboratory.intrinsic+json": {
              "type": "string"
            }
          },
          "metadata": {},
          "execution_count": 53
        }
      ]
    },
    {
      "cell_type": "code",
      "source": [
        "'Department of Statistics, '.replace('a','x') # แทนที่ได้เเค่ทีละตัวไม่สามารถทำพร้อมกันหลายๆตัวได้ เช่น a e i o u ต้องเเทนที่ด้วย x 5 ครั้ง"
      ],
      "metadata": {
        "colab": {
          "base_uri": "https://localhost:8080/",
          "height": 36
        },
        "id": "0V67k_fFhKOd",
        "outputId": "fc389589-e127-4bd4-c740-850d92545320"
      },
      "execution_count": null,
      "outputs": [
        {
          "output_type": "execute_result",
          "data": {
            "text/plain": [
              "'Depxrtment of Stxtistics, '"
            ],
            "application/vnd.google.colaboratory.intrinsic+json": {
              "type": "string"
            }
          },
          "metadata": {},
          "execution_count": 54
        }
      ]
    },
    {
      "cell_type": "markdown",
      "source": [
        "## ```split()``` แยก string"
      ],
      "metadata": {
        "id": "kVsLJYeJhMwK"
      }
    },
    {
      "cell_type": "code",
      "source": [
        "'a b c d e f g'.split() #แยกด้วยช่องว่าง\n",
        "                             #ตรงช่องว่างรันแล้วจะมี , คั่น"
      ],
      "metadata": {
        "colab": {
          "base_uri": "https://localhost:8080/"
        },
        "id": "aQMvpXVihPet",
        "outputId": "a0528d83-1045-41a9-927c-090bdfc75ef9"
      },
      "execution_count": null,
      "outputs": [
        {
          "output_type": "execute_result",
          "data": {
            "text/plain": [
              "['a', 'b', 'c', 'd', 'e', 'f', 'g']"
            ]
          },
          "metadata": {},
          "execution_count": 55
        }
      ]
    },
    {
      "cell_type": "code",
      "source": [
        "'a,b/c,d e/f g'.split('/') #แยกด้วย /\n",
        "                                #ตรง / รันแล้วจะมี , คั่น"
      ],
      "metadata": {
        "colab": {
          "base_uri": "https://localhost:8080/"
        },
        "id": "9UKYZNcXhS8X",
        "outputId": "c51faaf7-21c7-4b8d-9526-ca0f95631951"
      },
      "execution_count": null,
      "outputs": [
        {
          "output_type": "execute_result",
          "data": {
            "text/plain": [
              "['a,b', 'c,d e', 'f g']"
            ]
          },
          "metadata": {},
          "execution_count": 56
        }
      ]
    },
    {
      "cell_type": "code",
      "source": [
        "### [ ] เรียก square brackets"
      ],
      "metadata": {
        "id": "2itizLujjzD2",
        "outputId": "addcaced-8e31-48e9-995b-60466895170f",
        "colab": {
          "base_uri": "https://localhost:8080/",
          "height": 34
        }
      },
      "execution_count": null,
      "outputs": [
        {
          "output_type": "execute_result",
          "data": {
            "text/plain": [
              "'a b c d e f g'"
            ],
            "application/vnd.google.colaboratory.intrinsic+json": {
              "type": "string"
            }
          },
          "metadata": {},
          "execution_count": 71
        }
      ]
    }
  ]
}